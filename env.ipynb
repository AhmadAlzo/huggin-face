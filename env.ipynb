{
 "cells": [
  {
   "cell_type": "code",
   "execution_count": null,
   "id": "0b66b8b8",
   "metadata": {},
   "outputs": [],
   "source": [
    "# mkdir envs\n",
    "# cv envs\n",
    "# python -m venv ai\n",
    "# ai\\Scripts\\activate.bat\n",
    "# uvicorn main:app --reload\n",
    "# pip list\n",
    "# deactivate\n",
    "# pip install\n",
    "# ai/Scripts/python.exe c:/Users/User/Documents/fastapihuggingface/file.py"
   ]
  }
 ],
 "metadata": {
  "kernelspec": {
   "display_name": "Python 3 (ipykernel)",
   "language": "python",
   "name": "python3"
  },
  "language_info": {
   "codemirror_mode": {
    "name": "ipython",
    "version": 3
   },
   "file_extension": ".py",
   "mimetype": "text/x-python",
   "name": "python",
   "nbconvert_exporter": "python",
   "pygments_lexer": "ipython3",
   "version": "3.9.12"
  }
 },
 "nbformat": 4,
 "nbformat_minor": 5
}
